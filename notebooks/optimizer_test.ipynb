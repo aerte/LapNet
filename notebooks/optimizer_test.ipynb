{
 "cells": [
  {
   "cell_type": "code",
   "id": "initial_id",
   "metadata": {
    "collapsed": true,
    "ExecuteTime": {
     "end_time": "2024-10-14T15:34:30.353658Z",
     "start_time": "2024-10-14T15:34:28.475832Z"
    }
   },
   "source": [
    "import haiku as hk\n",
    "import jax\n",
    "import jax.numpy as jnp\n",
    "import kfac_jax\n",
    "\n",
    "# Hyper parameters\n",
    "NUM_CLASSES = 10\n",
    "L2_REG = 1e-3\n",
    "NUM_BATCHES = 100\n",
    "\n",
    "\n",
    "def make_dataset_iterator(batch_size):\n",
    "  # Dummy dataset, in practice this should be your dataset pipeline\n",
    "  for _ in range(NUM_BATCHES):\n",
    "    yield jnp.zeros([batch_size, 100]), jnp.ones([batch_size], dtype=\"int32\")\n",
    "\n",
    "\n",
    "def softmax_cross_entropy(logits: jnp.ndarray, targets: jnp.ndarray):\n",
    "  \"\"\"Softmax cross entropy loss.\"\"\"\n",
    "  # We assume integer labels\n",
    "  assert logits.ndim == targets.ndim + 1\n",
    "\n",
    "  # Tell KFAC-JAX this model represents a classifier\n",
    "  # See https://kfac-jax.readthedocs.io/en/latest/overview.html#supported-losses\n",
    "  kfac_jax.register_softmax_cross_entropy_loss(logits, targets)\n",
    "  log_p = jax.nn.log_softmax(logits, axis=-1)\n",
    "  return - jax.vmap(lambda x, y: x[y])(log_p, targets)\n",
    "\n",
    "\n",
    "def model_fn(x):\n",
    "  \"\"\"A Haiku MLP model function - three hidden layer network with tanh.\"\"\"\n",
    "  return hk.nets.MLP(\n",
    "    output_sizes=(50, 50, 50, NUM_CLASSES),\n",
    "    with_bias=True,\n",
    "    activation=jax.nn.tanh,\n",
    "  )(x)\n",
    "\n",
    "\n",
    "# The Haiku transformed model\n",
    "hk_model = hk.without_apply_rng(hk.transform(model_fn))\n",
    "\n",
    "\n",
    "def loss_fn(model_params, model_batch):\n",
    "  \"\"\"The loss function to optimize.\"\"\"\n",
    "  x, y = model_batch\n",
    "  logits = hk_model.apply(model_params, x)\n",
    "  loss = jnp.mean(softmax_cross_entropy(logits, y))\n",
    "\n",
    "  # The optimizer assumes that the function you provide has already added\n",
    "  # the L2 regularizer to its gradients.\n",
    "  return loss + L2_REG * kfac_jax.utils.inner_product(params, params) / 2.0\n",
    "\n",
    "\n",
    "# Create the optimizer\n",
    "optimizer = kfac_jax.Optimizer(\n",
    "  value_and_grad_func=jax.value_and_grad(loss_fn),\n",
    "  l2_reg=L2_REG,\n",
    "  value_func_has_aux=False,\n",
    "  value_func_has_state=False,\n",
    "  value_func_has_rng=False,\n",
    "  use_adaptive_learning_rate=True,\n",
    "  use_adaptive_momentum=True,\n",
    "  use_adaptive_damping=True,\n",
    "  initial_damping=1.0,\n",
    "  multi_device=False,\n",
    ")\n",
    "\n",
    "input_dataset = make_dataset_iterator(128)\n",
    "rng = jax.random.PRNGKey(42)\n",
    "dummy_images, dummy_labels = next(input_dataset)\n",
    "rng, key = jax.random.split(rng)\n",
    "params = hk_model.init(key, dummy_images)\n",
    "rng, key = jax.random.split(rng)\n",
    "opt_state = optimizer.init(params, key, (dummy_images, dummy_labels))\n",
    "\n",
    "loss = []\n",
    "\n",
    "# Training loop\n",
    "for i, batch in enumerate(input_dataset):\n",
    "  rng, key = jax.random.split(rng)\n",
    "  params, opt_state, stats = optimizer.step(\n",
    "      params, opt_state, key, batch=batch, global_step_int=i)\n",
    "  loss.append(stats['loss'])\n",
    "\n",
    "import matplotlib.pyplot as plt\n",
    "plt.plot(loss)"
   ],
   "outputs": [
    {
     "data": {
      "text/plain": [
       "[<matplotlib.lines.Line2D at 0x3147df210>]"
      ]
     },
     "execution_count": 7,
     "metadata": {},
     "output_type": "execute_result"
    },
    {
     "data": {
      "text/plain": [
       "<Figure size 640x480 with 1 Axes>"
      ],
      "image/png": "[encoded data removed]"
     },
     "metadata": {},
     "output_type": "display_data"
    }
   ],
   "execution_count": 7
  },
  {
   "metadata": {
    "ExecuteTime": {
     "end_time": "2024-10-14T15:34:30.365497Z",
     "start_time": "2024-10-14T15:34:30.359998Z"
    }
   },
   "cell_type": "code",
   "source": [
    "\"\"\"Type definitions that can be reused across the VMCNet codebase.\n",
    "\n",
    "Because type-checking with numpy/jax numpy can be tricky and does not always agree with\n",
    "type-checkers, this package uses types for static type-checking when possible, but\n",
    "otherwise they are intended for documentation and clarity.\n",
    "\"\"\"\n",
    "from typing import Any, Callable, Dict, List, Optional, Sequence, Tuple, TypeVar, Union\n",
    "\n",
    "from jax import Array\n",
    "from jax.typing import ArrayLike\n",
    "import kfac_jax\n",
    "import optax\n",
    "\n",
    "# Currently using PyTree = Any just to improve readability in the code.\n",
    "# A pytree is a \"tree-like structure built out of container-like Python objects\": see\n",
    "# https://jax.readthedocs.io/en/latest/pytrees.html\n",
    "PyTree = Any\n",
    "\n",
    "# TypeVar for an arbitrary PyTree\n",
    "T = TypeVar(\"T\", bound=PyTree)\n",
    "\n",
    "# TypeVar for a pytree containing MCMC data, e.g. walker positions\n",
    "# and wave function amplitudes, or other auxiliary MCMC data\n",
    "D = TypeVar(\"D\", bound=PyTree)\n",
    "\n",
    "# TypeVar for MCMC metadata which is required to take a metropolis step.\n",
    "M = TypeVar(\"M\", bound=PyTree)\n",
    "\n",
    "# TypeVar for a pytree containing model params\n",
    "P = TypeVar(\"P\", bound=PyTree)\n",
    "\n",
    "# TypeVar for a pytree containing optimizer state\n",
    "S = TypeVar(\"S\", bound=PyTree)\n",
    "\n",
    "# Actual optimizer states currently used\n",
    "# TODO: Figure out how to make kfac_opt.State not be interpreted by mypy as Any\n",
    "OptimizerState = Union[kfac_jax.optimizer.OptimizerState, optax.OptState]\n",
    "\n",
    "LearningRateSchedule = Callable[[Array], Array]\n",
    "\n",
    "ModelParams = Dict[str, Any]\n",
    "\n",
    "# VMC state needed for a checkpoint. Values are:\n",
    "#  1. The epoch\n",
    "#  2. The MCMC walker data\n",
    "#  3. The model parameters\n",
    "#  4. The optimizer state\n",
    "#  5. The RNG key\n",
    "#CheckpointData = Tuple[int, D, P, S, PRNGKey]\n",
    "\n",
    "ArrayList = List[Array]\n",
    "\n",
    "# Single array in (sign, logabs) form\n",
    "SLArray = Tuple[Array, Array]\n",
    "\n",
    "SLArrayList = List[SLArray]\n",
    "\n",
    "ParticleSplit = Union[int, Sequence[int]]\n",
    "\n",
    "InputStreams = Tuple[Array, Optional[Array], Optional[Array], Optional[Array]]\n",
    "ComputeInputStreams = Callable[[Array], InputStreams]\n",
    "\n",
    "Backflow = Callable[[Array, Optional[Array]], Array]\n",
    "\n",
    "Jastrow = Callable[[Array, Array, Array, Array, Array], Array]\n",
    "\n",
    "ModelApply = Callable[[P, Array], Array]\n",
    "#LocalEnergyApply = Callable[[P, Array, Optional[PRNGKey]], Array]\n",
    "\n",
    "GetPositionFromData = Callable[[D], Array]\n",
    "GetAmplitudeFromData = GetPositionFromData[D]\n",
    "UpdateDataFn = Callable[[D, P], D]\n",
    "\n",
    "ClippingFn = Callable[[Array, ArrayLike], Array]"
   ],
   "id": "fef521b03ab982b9",
   "outputs": [],
   "execution_count": 8
  },
  {
   "metadata": {
    "ExecuteTime": {
     "end_time": "2024-10-14T15:34:30.378666Z",
     "start_time": "2024-10-14T15:34:30.368534Z"
    }
   },
   "cell_type": "code",
   "source": [
    "## Required code for the Spring optimizer\n",
    "import functools\n",
    "from typing import Callable\n",
    "from jax import core\n",
    "\n",
    "def wrap_if_pmap(p_func: Callable) -> Callable:\n",
    "    \"\"\"Make a function run if in a pmapped context.\"\"\"\n",
    "\n",
    "    def p_func_if_pmap(obj, axis_name):\n",
    "        try:\n",
    "            core.axis_frame(axis_name)\n",
    "            return p_func(obj, axis_name)\n",
    "        except NameError:\n",
    "            return obj\n",
    "\n",
    "    return p_func_if_pmap\n",
    "\n",
    "pmean_if_pmap = functools.partial(wrap_if_pmap(jax.lax.pmean), axis_name=\"pmap_axis\")\n",
    "\n",
    "\"\"\"Helper functions for pytrees.\"\"\"\n",
    "import chex\n",
    "import jax.flatten_util\n",
    "\n",
    "\n",
    "def tree_sum(tree1: T, tree2: T) -> T:\n",
    "    \"\"\"Leaf-wise sum of two pytrees with the same structure.\"\"\"\n",
    "    return jax.tree_map(lambda a, b: a + b, tree1, tree2)\n",
    "\n",
    "\n",
    "def tree_diff(tree1: T, tree2: T) -> T:\n",
    "    \"\"\"Leaf-wise sum of two pytrees with the same structure.\"\"\"\n",
    "    return jax.tree_map(lambda a, b: a - b, tree1, tree2)\n",
    "\n",
    "\n",
    "def tree_dist(tree1: T, tree2: T, mode=\"squares\") -> Array:\n",
    "    \"\"\"Distance between two pytrees with the same structure.\"\"\"\n",
    "    dT = tree_diff(tree1, tree2)\n",
    "    if mode == \"squares\":\n",
    "        return tree_inner_product(dT, dT)\n",
    "    raise ValueError(f\"Unknown mode {mode}\")\n",
    "\n",
    "\n",
    "def tree_prod(tree1: T, tree2: T) -> T:\n",
    "    \"\"\"Leaf-wise product of two pytrees with the same structure.\"\"\"\n",
    "    return jax.tree_map(lambda a, b: a * b, tree1, tree2)\n",
    "\n",
    "\n",
    "def multiply_tree_by_scalar(tree: T, scalar: chex.Numeric) -> T:\n",
    "    \"\"\"Multiply all leaves of a pytree by a scalar.\"\"\"\n",
    "    return jax.tree_map(lambda x: scalar * x, tree)\n",
    "\n",
    "\n",
    "def tree_inner_product(tree1: T, tree2: T) -> Array:\n",
    "    \"\"\"Inner product of two pytrees with the same structure.\"\"\"\n",
    "    leaf_inner_prods = jax.tree_map(lambda a, b: jnp.sum(a * b), tree1, tree2)\n",
    "    return jnp.sum(jax.flatten_util.ravel_pytree(leaf_inner_prods)[0])\n",
    "\n",
    "\n",
    "def tree_reduce_l1(xs: PyTree) -> chex.Numeric:\n",
    "    \"\"\"L1 norm of a pytree as a flattened vector.\"\"\"\n",
    "    concat_xs, _ = jax.flatten_util.ravel_pytree(xs)\n",
    "    return jnp.sum(jnp.abs(concat_xs))"
   ],
   "id": "b4df4a5d3812ea2c",
   "outputs": [],
   "execution_count": 9
  },
  {
   "metadata": {
    "ExecuteTime": {
     "end_time": "2024-10-14T15:34:30.392823Z",
     "start_time": "2024-10-14T15:34:30.382904Z"
    }
   },
   "cell_type": "code",
   "source": [
    "\"\"\"Stochastic reconfiguration (SR) routine.\"\"\"\n",
    "import jax\n",
    "import jax.flatten_util\n",
    "import jax.numpy as jnp\n",
    "\n",
    "#from vmcnet.utils.typing import Array, ModelApply, P, Tuple\n",
    "\n",
    "import chex\n",
    "\n",
    "\n",
    "\n",
    "def get_spring_update_fn(\n",
    "    log_psi_apply: ModelApply[P],\n",
    "    damping: chex.Scalar = 0.001,\n",
    "    mu: chex.Scalar = 0.99,\n",
    "    momentum: chex.Scalar = 0.0,\n",
    "):\n",
    "    \"\"\"\n",
    "    Get the SPRING update function.\n",
    "\n",
    "    Args:\n",
    "        log_psi_apply (Callable): computes log|psi(x)|, where the signature of this\n",
    "            function is (params, x) -> log|psi(x)|\n",
    "        damping (float): damping parameter\n",
    "        mu (float): SPRING-specific regularization\n",
    "\n",
    "    Returns:\n",
    "        Callable: SPRING update function. Has the signature\n",
    "        (centered_energies, params, prev_grad, positions) -> new_grad\n",
    "    \"\"\"\n",
    "\n",
    "    def raveled_log_psi_grad(params: P, positions: Array) -> Array:\n",
    "        log_grads = jax.grad(log_psi_apply)(params, positions)\n",
    "        return jax.flatten_util.ravel_pytree(log_grads)[0]\n",
    "\n",
    "    batch_raveled_log_psi_grad = jax.vmap(raveled_log_psi_grad, in_axes=(None, 0))\n",
    "\n",
    "    def spring_update_fn(\n",
    "        centered_energies: P,\n",
    "        params: P,\n",
    "        prev_grad,\n",
    "        positions: Array,\n",
    "    ) -> Tuple[Array, P]:\n",
    "        nchains = positions.shape[0]\n",
    "\n",
    "        prev_grad, unravel_fn = jax.flatten_util.ravel_pytree(prev_grad)\n",
    "        prev_grad_decayed = mu * prev_grad\n",
    "\n",
    "        log_psi_grads = batch_raveled_log_psi_grad(params, positions) / jnp.sqrt(\n",
    "            nchains\n",
    "        )\n",
    "        Ohat = log_psi_grads - jnp.mean(log_psi_grads, axis=0, keepdims=True) # Equation (9)\n",
    "\n",
    "        T = Ohat @ Ohat.T\n",
    "        ones = jnp.ones((nchains, 1))\n",
    "        T_reg = T + ones @ ones.T / nchains + damping * jnp.eye(nchains) # Inner bracket of Equation (32)\n",
    "\n",
    "        epsilon_bar = centered_energies / jnp.sqrt(nchains)\n",
    "        epsion_tilde = epsilon_bar - Ohat @ prev_grad_decayed    # Given above Equation (31)\n",
    "\n",
    "        dtheta_residual = Ohat.T @ jax.scipy.linalg.solve(\n",
    "            T_reg, epsion_tilde, assume_a=\"pos\"\n",
    "        )                                                               # Equation (32)\n",
    "\n",
    "        SR_G = dtheta_residual + prev_grad_decayed                      # Equation (33)\n",
    "        SR_G = (1 - momentum) * SR_G + momentum * prev_grad             # Equation (34)\n",
    "\n",
    "        return unravel_fn(SR_G)\n",
    "\n",
    "    return spring_update_fn\n",
    "\n",
    "\n",
    "def constrain_norm(\n",
    "    grad: P,\n",
    "    norm_constraint: chex.Numeric = 0.001,\n",
    ") -> P:\n",
    "    \"\"\"Euclidean norm constraint.\"\"\"\n",
    "    sq_norm_scaled_grads = tree_inner_product(grad, grad)\n",
    "\n",
    "    # Sync the norms here, see:\n",
    "    # https://github.com/deepmind/deepmind-research/blob/30799687edb1abca4953aec507be87ebe63e432d/kfac_ferminet_alpha/optimizer.py#L585\n",
    "    sq_norm_scaled_grads = pmean_if_pmap(sq_norm_scaled_grads)\n",
    "\n",
    "    norm_scale_factor = jnp.sqrt(norm_constraint / sq_norm_scaled_grads)\n",
    "    coefficient = jnp.minimum(norm_scale_factor, 1)\n",
    "    constrained_grads = multiply_tree_by_scalar(grad, coefficient)\n",
    "\n",
    "    return constrained_grads"
   ],
   "id": "cf7fac9814e3c03a",
   "outputs": [],
   "execution_count": 10
  },
  {
   "metadata": {
    "ExecuteTime": {
     "end_time": "2024-10-24T19:28:50.330648Z",
     "start_time": "2024-10-24T19:28:50.325008Z"
    }
   },
   "cell_type": "code",
   "source": [
    "import numpy as np\n",
    "S = [[-0.01, 0.00095, 0.0005], [0.08, -0.1, 0.02], [0,0,-1]]\n",
    "S = np.array(S)\n",
    "alpha = np.array([1,0,0])\n",
    "print('pi = ', (alpha@np.linalg.inv(-S))/(alpha@np.linalg.inv(-S)@np.ones(3)))\n",
    "print(S)"
   ],
   "id": "37369489aaa919b2",
   "outputs": [
    {
     "name": "stdout",
     "output_type": "stream",
     "text": [
      "pi =  [9.89912789e-01 9.40417149e-03 6.83039824e-04]\n",
      "[[-1.0e-02  9.5e-04  5.0e-04]\n",
      " [ 8.0e-02 -1.0e-01  2.0e-02]\n",
      " [ 0.0e+00  0.0e+00 -1.0e+00]]\n"
     ]
    }
   ],
   "execution_count": 14
  },
  {
   "metadata": {
    "ExecuteTime": {
     "end_time": "2024-10-24T19:29:21.276100Z",
     "start_time": "2024-10-24T19:29:21.272420Z"
    }
   },
   "cell_type": "code",
   "source": "1/6.83039824e-04",
   "id": "6c114e5d86286b3b",
   "outputs": [
    {
     "data": {
      "text/plain": [
       "1464.0434786713108"
      ]
     },
     "execution_count": 15,
     "metadata": {},
     "output_type": "execute_result"
    }
   ],
   "execution_count": 15
  },
  {
   "metadata": {
    "ExecuteTime": {
     "end_time": "2024-10-24T19:24:02.251248Z",
     "start_time": "2024-10-24T19:24:02.247534Z"
    }
   },
   "cell_type": "code",
   "source": "5487/12",
   "id": "97ff5a66f0b3f191",
   "outputs": [
    {
     "data": {
      "text/plain": [
       "457.25"
      ]
     },
     "execution_count": 4,
     "metadata": {},
     "output_type": "execute_result"
    }
   ],
   "execution_count": 4
  },
  {
   "metadata": {
    "ExecuteTime": {
     "end_time": "2024-10-24T19:24:39.172464Z",
     "start_time": "2024-10-24T19:24:39.169114Z"
    }
   },
   "cell_type": "code",
   "source": "5000/5487",
   "id": "af79cbaed6cd826b",
   "outputs": [
    {
     "data": {
      "text/plain": [
       "0.911244760342628"
      ]
     },
     "execution_count": 5,
     "metadata": {},
     "output_type": "execute_result"
    }
   ],
   "execution_count": 5
  },
  {
   "metadata": {
    "ExecuteTime": {
     "end_time": "2024-10-24T19:25:19.715025Z",
     "start_time": "2024-10-24T19:25:19.711563Z"
    }
   },
   "cell_type": "code",
   "source": "12/5487",
   "id": "317412cdb6044575",
   "outputs": [
    {
     "data": {
      "text/plain": [
       "0.002186987424822307"
      ]
     },
     "execution_count": 6,
     "metadata": {},
     "output_type": "execute_result"
    }
   ],
   "execution_count": 6
  },
  {
   "metadata": {},
   "cell_type": "code",
   "outputs": [],
   "execution_count": null,
   "source": "",
   "id": "e6c18cffc35b099"
  }
 ],
 "metadata": {
  "kernelspec": {
   "display_name": "Python 3",
   "language": "python",
   "name": "python3"
  },
  "language_info": {
   "codemirror_mode": {
    "name": "ipython",
    "version": 2
   },
   "file_extension": ".py",
   "mimetype": "text/x-python",
   "name": "python",
   "nbconvert_exporter": "python",
   "pygments_lexer": "ipython2",
   "version": "2.7.6"
  }
 },
 "nbformat": 4,
 "nbformat_minor": 5
}
